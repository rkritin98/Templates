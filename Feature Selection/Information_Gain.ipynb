{
  "nbformat": 4,
  "nbformat_minor": 0,
  "metadata": {
    "colab": {
      "name": "Information Gain.ipynb",
      "provenance": []
    },
    "kernelspec": {
      "name": "python3",
      "display_name": "Python 3"
    }
  },
  "cells": [
    {
      "cell_type": "code",
      "metadata": {
        "id": "lEe8m496yOC0",
        "colab_type": "code",
        "colab": {}
      },
      "source": [
        "from sklearn.feature_selection import mutual_info_classif\n",
        "\n",
        "mutual_info=mutual_info_classif(X,y)\n",
        "\n",
        "mutual_data=pd.Series(mutual_info,index=X.columns)\n",
        "mutual_data.sort_values(ascending=False)"
      ],
      "execution_count": null,
      "outputs": []
    }
  ]
}