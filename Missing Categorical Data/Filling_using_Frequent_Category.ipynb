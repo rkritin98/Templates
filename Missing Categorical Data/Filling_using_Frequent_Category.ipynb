{
  "nbformat": 4,
  "nbformat_minor": 0,
  "metadata": {
    "colab": {
      "name": "Filling using Frequent Category.ipynb",
      "provenance": []
    },
    "kernelspec": {
      "name": "python3",
      "display_name": "Python 3"
    }
  },
  "cells": [
    {
      "cell_type": "markdown",
      "metadata": {
        "id": "NGJi09rdusKT",
        "colab_type": "text"
      },
      "source": [
        "Imputation should be done over the training set, and then propagated to the test set. This means that the mean/median to be used to fill missing values both in train and test set, should be extracted from the train set only. And this is to avoid overfitting."
      ]
    },
    {
      "cell_type": "code",
      "metadata": {
        "id": "NYGp0MmXuvXp",
        "colab_type": "code",
        "colab": {}
      },
      "source": [
        "# let's separate into training and testing set\n",
        "\n",
        "X_train, X_test, y_train, y_test = train_test_split(data, data.Survived, test_size=0.3,\n",
        "                                                    random_state=0)\n",
        "X_train.shape, X_test.shape\n"
      ],
      "execution_count": null,
      "outputs": []
    },
    {
      "cell_type": "code",
      "metadata": {
        "id": "5gvQ_X7K0phg",
        "colab_type": "code",
        "colab": {}
      },
      "source": [
        "#Let's inspect the frequency of the labels in the different variables\n",
        "\n",
        "X_train.groupby(['BsmtQual'])['BsmtQual'].count().sort_values(ascending=False).plot.bar()"
      ],
      "execution_count": null,
      "outputs": []
    },
    {
      "cell_type": "code",
      "metadata": {
        "id": "lQZF6i7w2pta",
        "colab_type": "code",
        "colab": {}
      },
      "source": [
        "def impute_na(df_train, df_test, variable):\n",
        "    most_frequent_category = df_train.groupby([variable])[variable].count().sort_values(ascending=False).index[0]\n",
        "    df_train[variable].fillna(most_frequent_category, inplace=True)\n",
        "    df_test[variable].fillna(most_frequent_category, inplace=True)"
      ],
      "execution_count": null,
      "outputs": []
    },
    {
      "cell_type": "code",
      "metadata": {
        "id": "yi_xhXT_2q6b",
        "colab_type": "code",
        "colab": {}
      },
      "source": [
        "# and let's replace the NA\n",
        "for variable in ['columns', 'FireplaceQu', 'GarageType',]:\n",
        "    impute_na(X_train, X_test, variable)"
      ],
      "execution_count": null,
      "outputs": []
    }
  ]
}