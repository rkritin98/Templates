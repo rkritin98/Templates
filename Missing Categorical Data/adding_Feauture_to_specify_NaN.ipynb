{
  "nbformat": 4,
  "nbformat_minor": 0,
  "metadata": {
    "colab": {
      "name": "adding Feauture to specify NaN.ipynb",
      "provenance": []
    },
    "kernelspec": {
      "name": "python3",
      "display_name": "Python 3"
    }
  },
  "cells": [
    {
      "cell_type": "markdown",
      "metadata": {
        "id": "NGJi09rdusKT",
        "colab_type": "text"
      },
      "source": [
        "Imputation should be done over the training set, and then propagated to the test set. This means that the mean/median to be used to fill missing values both in train and test set, should be extracted from the train set only. And this is to avoid overfitting."
      ]
    },
    {
      "cell_type": "code",
      "metadata": {
        "id": "NYGp0MmXuvXp",
        "colab_type": "code",
        "colab": {}
      },
      "source": [
        "# let's separate into training and testing set\n",
        "\n",
        "X_train, X_test, y_train, y_test = train_test_split(data, data.Survived, test_size=0.3,\n",
        "                                                    random_state=0)\n",
        "X_train.shape, X_test.shape\n"
      ],
      "execution_count": null,
      "outputs": []
    },
    {
      "cell_type": "code",
      "metadata": {
        "id": "5gvQ_X7K0phg",
        "colab_type": "code",
        "colab": {}
      },
      "source": [
        "#Let's inspect the frequency of the labels in the different variables\n",
        "\n",
        "X_train.groupby(['BsmtQual'])['BsmtQual'].count().sort_values(ascending=False).plot.bar()"
      ],
      "execution_count": null,
      "outputs": []
    },
    {
      "cell_type": "code",
      "metadata": {
        "id": "lQZF6i7w2pta",
        "colab_type": "code",
        "colab": {}
      },
      "source": [
        "# make sure you understand every line of code.\n",
        "# If unsure, run them separately in a cell in the notebook until you familiarise with the output\n",
        "# of each line\n",
        "\n",
        "def impute_na(df_train, df_test, variable):\n",
        "    # add additional variable to indicate missingness\n",
        "    df_train[variable+'_NA'] = np.where(df_train[variable].isnull(), 1, 0)\n",
        "    df_test[variable+'_NA'] = np.where(df_test[variable].isnull(), 1, 0)\n",
        "    \n",
        "    # random sampling\n",
        "    df_train[variable+'_random'] = df_train[variable]\n",
        "    df_test[variable+'_random'] = df_test[variable]\n",
        "    \n",
        "    # extract the random sample to fill the na\n",
        "    random_sample_train = df_train[variable].dropna().sample(df_train[variable].isnull().sum(), random_state=0)\n",
        "    random_sample_test = df_train[variable].dropna().sample(df_test[variable].isnull().sum(), random_state=0)\n",
        "    \n",
        "    # pandas needs to have the same index in order to merge datasets\n",
        "    random_sample_train.index = df_train[df_train[variable].isnull()].index\n",
        "    random_sample_test.index = df_test[df_test[variable].isnull()].index\n",
        "    \n",
        "    df_train.loc[df_train[variable].isnull(), variable+'_random'] = random_sample_train\n",
        "    df_test.loc[df_test[variable].isnull(), variable+'_random'] = random_sample_test"
      ],
      "execution_count": null,
      "outputs": []
    },
    {
      "cell_type": "code",
      "metadata": {
        "id": "yi_xhXT_2q6b",
        "colab_type": "code",
        "colab": {}
      },
      "source": [
        "# and let's replace the NA\n",
        "for variable in ['columns', 'FireplaceQu', 'GarageType']:\n",
        "    impute_na(X_train, X_test, variable)"
      ],
      "execution_count": null,
      "outputs": []
    }
  ]
}