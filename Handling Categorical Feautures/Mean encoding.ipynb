{
  "nbformat": 4,
  "nbformat_minor": 0,
  "metadata": {
    "colab": {
      "name": "Untitled0.ipynb",
      "provenance": []
    },
    "kernelspec": {
      "name": "python3",
      "display_name": "Python 3"
    }
  },
  "cells": [
    {
      "cell_type": "code",
      "metadata": {
        "id": "gI22LyccguXt",
        "colab_type": "code",
        "colab": {}
      },
      "source": [
        "data = pd.read_csv('#dataset')\n",
        "data.head()"
      ],
      "execution_count": null,
      "outputs": []
    },
    {
      "cell_type": "code",
      "metadata": {
        "id": "-qJs9IYPqCjc",
        "colab_type": "code",
        "colab": {}
      },
      "source": [
        "# Let's separate into training and testing set\n",
        "\n",
        "X_train, X_test, y_train, y_test = train_test_split(data[['Cabin', 'Survived']], data.Survived, test_size=0.3,\n",
        "                                                    random_state=0)\n",
        "X_train.shape, X_test.shape\n",
        "\n",
        "\n",
        "# and now let's do the same but capturing the result in a dictionary\n",
        "\n",
        "ordered_labels = X_train.groupby(['Cabin'])['Survived'].mean().to_dict()\n",
        "ordered_labels\n",
        "\n",
        "\n",
        "# replace the labels with the 'risk' (target frequency)\n",
        "# note that we calculated the frequencies based on the training set only\n",
        "\n",
        "X_train['Cabin_ordered'] = X_train.Cabin.map(ordered_labels)\n",
        "X_test['Cabin_ordered'] = X_test.Cabin.map(ordered_labels)\n",
        "\n",
        "# check the results\n",
        "\n",
        "X_train.head()\n",
        "\n",
        "# plot the transformed result: the monotonic variable\n",
        "\n",
        "fig = plt.figure()\n",
        "fig = X_train.groupby(['Cabin_ordered'])['Survived'].mean().plot()\n",
        "fig.set_title('Monotonic relationship between variable and target')\n",
        "fig.set_ylabel('Survived')"
      ],
      "execution_count": null,
      "outputs": []
    }
  ]
}