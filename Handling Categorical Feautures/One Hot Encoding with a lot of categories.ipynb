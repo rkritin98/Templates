{
  "nbformat": 4,
  "nbformat_minor": 0,
  "metadata": {
    "colab": {
      "name": "Untitled0.ipynb",
      "provenance": []
    },
    "kernelspec": {
      "name": "python3",
      "display_name": "Python 3"
    }
  },
  "cells": [
    {
      "cell_type": "code",
      "metadata": {
        "id": "gI22LyccguXt",
        "colab_type": "code",
        "colab": {}
      },
      "source": [
        "data = pd.read_csv('#dataset')\n",
        "data.head()"
      ],
      "execution_count": null,
      "outputs": []
    },
    {
      "cell_type": "code",
      "metadata": {
        "id": "SMemuEx3lihK",
        "colab_type": "code",
        "colab": {}
      },
      "source": [
        "# let's have a look at how many labels each variable has\n",
        "\n",
        "for col in data.columns: #nothing to change\n",
        "    print(col, ': ', len(data[col].unique()), ' labels')"
      ],
      "execution_count": null,
      "outputs": []
    },
    {
      "cell_type": "code",
      "metadata": {
        "id": "DPMzl1-GllsR",
        "colab_type": "code",
        "colab": {}
      },
      "source": [
        "# let's find the top 10 most frequent categories for the variable X2\n",
        "\n",
        "data.X2.value_counts().sort_values(ascending=False).head(10)"
      ],
      "execution_count": null,
      "outputs": []
    },
    {
      "cell_type": "code",
      "metadata": {
        "id": "EY0_yujylvll",
        "colab_type": "code",
        "colab": {}
      },
      "source": [
        "# let's make a list with the most frequent categories of the variable\n",
        "\n",
        "top_10 = [x for x in data.specific_column.value_counts().sort_values(ascending=False).head(10).index]\n",
        "top_10"
      ],
      "execution_count": null,
      "outputs": []
    },
    {
      "cell_type": "code",
      "metadata": {
        "id": "-zZCNTfKl0P6",
        "colab_type": "code",
        "colab": {}
      },
      "source": [
        "# get whole set of dummy variables, for all the categorical variables\n",
        "\n",
        "def one_hot_top_x(df, variable, top_x_labels):\n",
        "    # function to create the dummy variables for the most frequent labels\n",
        "    # we can vary the number of most frequent labels that we encode\n",
        "    \n",
        "    for label in top_x_labels:\n",
        "        df[variable+'_'+label] = np.where(data[variable]==label, 1, 0)\n",
        "\n",
        "# read the data again\n",
        "data = pd.read_csv('mercedesbenz.csv', usecols=['X1', 'X2', 'X3', 'X4', 'X5', 'X6'])\n",
        "\n",
        "# encode X2 into the 10 most frequent categories\n",
        "one_hot_top_x(data, 'X2', top_10)\n",
        "data.head()"
      ],
      "execution_count": null,
      "outputs": []
    }
  ]
}