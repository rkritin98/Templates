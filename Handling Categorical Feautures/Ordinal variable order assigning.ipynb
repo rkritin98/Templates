{
  "nbformat": 4,
  "nbformat_minor": 0,
  "metadata": {
    "colab": {
      "name": "Untitled0.ipynb",
      "provenance": []
    },
    "kernelspec": {
      "name": "python3",
      "display_name": "Python 3"
    }
  },
  "cells": [
    {
      "cell_type": "code",
      "metadata": {
        "id": "gI22LyccguXt",
        "colab_type": "code",
        "colab": {}
      },
      "source": [
        "data = pd.read_csv('#dataset')\n",
        "data.head()"
      ],
      "execution_count": null,
      "outputs": []
    },
    {
      "cell_type": "code",
      "metadata": {
        "id": "iqYYye23nnMF",
        "colab_type": "code",
        "colab": {}
      },
      "source": [
        "# Engineer categorical variable by ordinal number replacement\n",
        "\n",
        "#having a list and the order of ordinal variables\n",
        "weekday_map = {'Monday':1,\n",
        "               'Tuesday':2,\n",
        "               'Wednesday':3,\n",
        "               'Thursday':4,\n",
        "               'Friday':5,\n",
        "               'Saturday':6,\n",
        "               'Sunday':7\n",
        "}\n",
        "\n",
        "#create a new column and assign the list\n",
        "df['day_ordinal'] = df.day_of_week.map(weekday_map)\n",
        "df.head(10)\n"
      ],
      "execution_count": null,
      "outputs": []
    }
  ]
}