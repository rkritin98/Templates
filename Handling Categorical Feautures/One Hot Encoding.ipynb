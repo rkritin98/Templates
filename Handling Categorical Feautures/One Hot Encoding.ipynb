{
  "nbformat": 4,
  "nbformat_minor": 0,
  "metadata": {
    "colab": {
      "name": "Untitled0.ipynb",
      "provenance": []
    },
    "kernelspec": {
      "name": "python3",
      "display_name": "Python 3"
    }
  },
  "cells": [
    {
      "cell_type": "code",
      "metadata": {
        "id": "gI22LyccguXt",
        "colab_type": "code",
        "colab": {}
      },
      "source": [
        "data = pd.read_csv('#dataset')\n",
        "data.head()"
      ],
      "execution_count": null,
      "outputs": []
    },
    {
      "cell_type": "code",
      "metadata": {
        "id": "tq9QwqCcjJtw",
        "colab_type": "code",
        "colab": {}
      },
      "source": [
        "# one hot encoding\n",
        "\n",
        "# obtaining k-1 labels\n",
        "pd.get_dummies(data.column, drop_first=True).head()\n",
        "pd.concat([data, pd.get_dummies(data.column)], axis=1).head() #to join with main table"
      ],
      "execution_count": null,
      "outputs": []
    },
    {
      "cell_type": "code",
      "metadata": {
        "id": "h5JVrFvtjmK8",
        "colab_type": "code",
        "colab": {}
      },
      "source": [
        "# one hot encoding but also include whether there was missing data\n",
        "\n",
        "pd.get_dummies(data.column, drop_first=True, dummy_na=True).head()\n"
      ],
      "execution_count": null,
      "outputs": []
    },
    {
      "cell_type": "code",
      "metadata": {
        "id": "G11L5wx1kV6t",
        "colab_type": "code",
        "colab": {}
      },
      "source": [
        "# let's make a copy of the dataset, in which we encode the categorical variables using OHE\n",
        "\n",
        "data_OHE = pd.concat([data[['choosing column from existing table to create a new table', '#2', '#3','#4']], # numerical variables \n",
        "                      pd.get_dummies(data.column, drop_first=True),   # binary categorical variable\n",
        "                      pd.get_dummies(data.column, drop_first=True)],  # k categories in categorical\n",
        "                    axis=1)\n",
        "\n",
        "data_OHE.head()"
      ],
      "execution_count": null,
      "outputs": []
    },
    {
      "cell_type": "code",
      "metadata": {
        "id": "ogu3JvU5kEmO",
        "colab_type": "code",
        "colab": {}
      },
      "source": [
        "# by summing the number of 1s per boolean variable over the rows of the dataset, we get to know how\n",
        "# many observations we have for each variable (i.e., each category)\n",
        "\n",
        "pd.get_dummies(data.column, drop_first=True, dummy_na=True).sum(axis=0)\n"
      ],
      "execution_count": null,
      "outputs": []
    }
  ]
}