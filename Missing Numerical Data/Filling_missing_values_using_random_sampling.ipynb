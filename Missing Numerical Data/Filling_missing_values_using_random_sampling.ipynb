{
  "nbformat": 4,
  "nbformat_minor": 0,
  "metadata": {
    "colab": {
      "name": "Filling missing values using random sampling.ipynb",
      "provenance": []
    },
    "kernelspec": {
      "name": "python3",
      "display_name": "Python 3"
    }
  },
  "cells": [
    {
      "cell_type": "markdown",
      "metadata": {
        "id": "NGJi09rdusKT",
        "colab_type": "text"
      },
      "source": [
        "Imputation should be done over the training set, and then propagated to the test set. This means that the mean/median to be used to fill missing values both in train and test set, should be extracted from the train set only. And this is to avoid overfitting."
      ]
    },
    {
      "cell_type": "code",
      "metadata": {
        "id": "NYGp0MmXuvXp",
        "colab_type": "code",
        "colab": {}
      },
      "source": [
        "# let's separate into training and testing set\n",
        "\n",
        "X_train, X_test, y_train, y_test = train_test_split(data, data.Survived, test_size=0.3,\n",
        "                                                    random_state=0)\n",
        "X_train.shape, X_test.shape\n"
      ],
      "execution_count": null,
      "outputs": []
    },
    {
      "cell_type": "code",
      "metadata": {
        "id": "4lJvJ8HxwtfI",
        "colab_type": "code",
        "colab": {}
      },
      "source": [
        "# random sampling\n",
        "df[variable+'_random'] = df[variable]\n",
        "# extract the random sample to fill the na\n",
        "random_sample = X_train[variable].dropna().sample(df[variable].isnull().sum(), random_state=0)\n",
        "# pandas needs to have the same index in order to merge datasets\n",
        "random_sample.index = df[df[variable].isnull()].index\n",
        "df.loc[df[variable].isnull(), variable+'_random'] = random_sample"
      ],
      "execution_count": null,
      "outputs": []
    }
  ]
}