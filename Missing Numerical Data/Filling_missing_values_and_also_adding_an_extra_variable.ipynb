{
  "nbformat": 4,
  "nbformat_minor": 0,
  "metadata": {
    "colab": {
      "name": "Filling missing values and also adding an extra variable.ipynb",
      "provenance": []
    },
    "kernelspec": {
      "name": "python3",
      "display_name": "Python 3"
    }
  },
  "cells": [
    {
      "cell_type": "markdown",
      "metadata": {
        "id": "NGJi09rdusKT",
        "colab_type": "text"
      },
      "source": [
        "Imputation should be done over the training set, and then propagated to the test set. This means that the mean/median to be used to fill missing values both in train and test set, should be extracted from the train set only. And this is to avoid overfitting."
      ]
    },
    {
      "cell_type": "code",
      "metadata": {
        "id": "NYGp0MmXuvXp",
        "colab_type": "code",
        "colab": {}
      },
      "source": [
        "# let's separate into training and testing set\n",
        "\n",
        "X_train, X_test, y_train, y_test = train_test_split(data, data.Survived, test_size=0.3,\n",
        "                                                    random_state=0)\n",
        "X_train.shape, X_test.shape\n"
      ],
      "execution_count": null,
      "outputs": []
    },
    {
      "cell_type": "code",
      "metadata": {
        "id": "eVmjHiZTzUqc",
        "colab_type": "code",
        "colab": {}
      },
      "source": [
        "# create variable indicating missingness\n",
        "\n",
        "X_train['Age_NA'] = np.where(X_train['Age'].isnull(), 1, 0)\n",
        "X_test['Age_NA'] = np.where(X_test['Age'].isnull(), 1, 0)\n",
        "\n",
        "X_train.head()"
      ],
      "execution_count": null,
      "outputs": []
    },
    {
      "cell_type": "code",
      "metadata": {
        "id": "sawx1WC_zVrq",
        "colab_type": "code",
        "colab": {}
      },
      "source": [
        "# we can see that mean and median are similar. So I will replace with the median\n",
        "X_train.Age.mean(), X_train.Age.median()"
      ],
      "execution_count": null,
      "outputs": []
    },
    {
      "cell_type": "code",
      "metadata": {
        "id": "_G5f4oE4zZqR",
        "colab_type": "code",
        "colab": {}
      },
      "source": [
        "# let's replace the NA with the median value in the training set\n",
        "X_train['Age'].fillna(X_train.Age.median(), inplace=True)\n",
        "X_test['Age'].fillna(X_train.Age.median(), inplace=True)\n",
        "\n",
        "X_train.head(20)"
      ],
      "execution_count": null,
      "outputs": []
    }
  ]
}