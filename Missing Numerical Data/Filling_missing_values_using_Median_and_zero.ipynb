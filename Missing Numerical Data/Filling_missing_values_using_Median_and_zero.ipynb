{
  "nbformat": 4,
  "nbformat_minor": 0,
  "metadata": {
    "colab": {
      "name": "Filling missing values using Median and zero.ipynb",
      "provenance": []
    },
    "kernelspec": {
      "name": "python3",
      "display_name": "Python 3"
    }
  },
  "cells": [
    {
      "cell_type": "markdown",
      "metadata": {
        "id": "NGJi09rdusKT",
        "colab_type": "text"
      },
      "source": [
        "Imputation should be done over the training set, and then propagated to the test set. This means that the mean/median to be used to fill missing values both in train and test set, should be extracted from the train set only. And this is to avoid overfitting."
      ]
    },
    {
      "cell_type": "code",
      "metadata": {
        "id": "NYGp0MmXuvXp",
        "colab_type": "code",
        "colab": {}
      },
      "source": [
        "# let's separate into training and testing set\n",
        "\n",
        "X_train, X_test, y_train, y_test = train_test_split(data, data.Survived, test_size=0.3,\n",
        "                                                    random_state=0)\n",
        "X_train.shape, X_test.shape\n",
        "\n",
        "median = X_train.Age.median()\n",
        "median"
      ],
      "execution_count": null,
      "outputs": []
    },
    {
      "cell_type": "code",
      "metadata": {
        "id": "Qfs2F1uovYzg",
        "colab_type": "code",
        "colab": {}
      },
      "source": [
        "df[variable+'_median'] = df[variable].fillna(median)\n",
        "df[variable+'_zero'] = df[variable].fillna(0)"
      ],
      "execution_count": null,
      "outputs": []
    }
  ]
}